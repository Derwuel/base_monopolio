{
 "cells": [
  {
   "cell_type": "code",
   "execution_count": null,
   "id": "a1e6b584-d5eb-443d-b876-ac3871e4ae32",
   "metadata": {},
   "outputs": [],
   "source": [
    "%pip install matplotlib\n",
    "%matplotlib inline\n",
    "%pip install seaborn\n",
    "%pip install scipy\n",
    "%pip install statsmodels\n",
    "%pip install scikit-learn\n",
    "%pip install wquantiles\n",
    "%pip install openpyxl\n",
    "%pip install opendatasets\n",
    "\n",
    "import pandas as pd\n",
    "import numpy as np\n",
    "import seaborn as sb\n",
    "import matplotlib.pyplot as plt\n",
    "import opendatasets as od\n",
    "import wquantiles\n",
    "import os\n",
    "\n",
    "from pathlib import Path\n",
    "from scipy.stats import trim_mean\n",
    "from statsmodels import robust\n",
    "from sklearn.model_selection import train_test_split\n",
    "from sklearn.linear_model import LinearRegression\n",
    "from sklearn.metrics import mean_squared_error, r2_score\n",
    "from mpl_toolkits.mplot3d import Axes3D\n",
    "from matplotlib import cm\n",
    "from sklearn.impute import KNNImputer"
   ]
  }
 ],
 "metadata": {
  "kernelspec": {
   "display_name": "Python 3 (ipykernel)",
   "language": "python",
   "name": "python3"
  },
  "language_info": {
   "codemirror_mode": {
    "name": "ipython",
    "version": 3
   },
   "file_extension": ".py",
   "mimetype": "text/x-python",
   "name": "python",
   "nbconvert_exporter": "python",
   "pygments_lexer": "ipython3",
   "version": "3.12.7"
  }
 },
 "nbformat": 4,
 "nbformat_minor": 5
}
